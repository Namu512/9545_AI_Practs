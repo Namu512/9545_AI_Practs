{
 "cells": [
  {
   "cell_type": "code",
   "execution_count": 1,
   "id": "18aab0ec-ebf1-4569-b888-1b325c160777",
   "metadata": {},
   "outputs": [
    {
     "name": "stdout",
     "output_type": "stream",
     "text": [
      "Dietary needs: low_calorie, high_protein\n",
      "['Focus on consuming fruits, vegetables, lean proteins, and whole grains. Limit added sugars and fats.', 'Include plenty of protein-rich foods such as lean meats, fish, eggs, dairy, legumes, and nuts.']\n",
      "\n",
      "Dietary needs: low_carb, balanced_diet\n",
      "['Limit carbohydrate intake and focus on consuming nonstarchy vegetables, lean proteins, and healthy fats.', 'Eat a variety of foods from all food groups, including fruits, vegetables, grains, protein-rich foods, and healthy fats.']\n",
      "\n",
      "Dietary needs: low_fat\n",
      "[\"Sorry, I'm not sure what to advise for 'low_fat' dietary need.\"]\n"
     ]
    }
   ],
   "source": [
    "class ExpertSystem:\n",
    "    def __init__(self):\n",
    "        self.rules = {\n",
    "            \"low_calorie\": \"Focus on consuming fruits, vegetables, lean proteins, and whole grains. Limit added sugars and fats.\",\n",
    "            \"high_protein\": \"Include plenty of protein-rich foods such as lean meats, fish, eggs, dairy, legumes, and nuts.\",\n",
    "            \"low_carb\": \"Limit carbohydrate intake and focus on consuming nonstarchy vegetables, lean proteins, and healthy fats.\",\n",
    "            \"balanced_diet\": \"Eat a variety of foods from all food groups, including fruits, vegetables, grains, protein-rich foods, and healthy fats.\"\n",
    "        }\n",
    "\n",
    "    def consult(self, dietary_needs):\n",
    "        recommendations = []\n",
    "        for need in dietary_needs:\n",
    "            if need in self.rules:\n",
    "                recommendations.append(self.rules[need])\n",
    "            else:\n",
    "                recommendations.append(\"Sorry, I'm not sure what to advise for '{}' dietary need.\".format(need))\n",
    "        return recommendations\n",
    "\n",
    "def main():\n",
    "    expert_system = ExpertSystem()\n",
    "    # Example consultations\n",
    "    print(\"Dietary needs: low_calorie, high_protein\")\n",
    "    print(expert_system.consult([\"low_calorie\", \"high_protein\"]))\n",
    "    print(\"\\nDietary needs: low_carb, balanced_diet\")\n",
    "    print(expert_system.consult([\"low_carb\", \"balanced_diet\"]))\n",
    "    print(\"\\nDietary needs: low_fat\")\n",
    "    print(expert_system.consult([\"low_fat\"]))\n",
    "\n",
    "if __name__ == \"__main__\":\n",
    "    main()"
   ]
  },
  {
   "cell_type": "code",
   "execution_count": null,
   "id": "9b48c079-3d3a-44f0-83ec-052df87ebc4e",
   "metadata": {},
   "outputs": [],
   "source": []
  }
 ],
 "metadata": {
  "kernelspec": {
   "display_name": "Python 3 (ipykernel)",
   "language": "python",
   "name": "python3"
  },
  "language_info": {
   "codemirror_mode": {
    "name": "ipython",
    "version": 3
   },
   "file_extension": ".py",
   "mimetype": "text/x-python",
   "name": "python",
   "nbconvert_exporter": "python",
   "pygments_lexer": "ipython3",
   "version": "3.10.0"
  }
 },
 "nbformat": 4,
 "nbformat_minor": 5
}
