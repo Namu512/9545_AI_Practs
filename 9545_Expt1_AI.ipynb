{
 "cells": [
  {
   "cell_type": "code",
   "execution_count": null,
   "id": "e730e5da-8047-4ca9-9e99-0730dd7ed5f4",
   "metadata": {},
   "outputs": [],
   "source": [
    "Brute Force Approach "
   ]
  },
  {
   "cell_type": "code",
   "execution_count": 16,
   "id": "88ca77a5-c6c3-46b5-86ec-6bef553c8caa",
   "metadata": {},
   "outputs": [
    {
     "name": "stdout",
     "output_type": "stream",
     "text": [
      "Game started\n",
      "  |   |  \n",
      "---------\n",
      "  |   |  \n",
      "---------\n",
      "  |   |  \n",
      "Player turn\n"
     ]
    },
    {
     "name": "stdin",
     "output_type": "stream",
     "text": [
      "Enter a position (1-9)  2\n"
     ]
    },
    {
     "name": "stdout",
     "output_type": "stream",
     "text": [
      "  | X |  \n",
      "---------\n",
      "  |   |  \n",
      "---------\n",
      "  |   |  \n",
      "Computer turn\n",
      "O | X |  \n",
      "---------\n",
      "  |   |  \n",
      "---------\n",
      "  |   |  \n",
      "Player turn\n"
     ]
    },
    {
     "name": "stdin",
     "output_type": "stream",
     "text": [
      "Enter a position (1-9)  5\n"
     ]
    },
    {
     "name": "stdout",
     "output_type": "stream",
     "text": [
      "O | X |  \n",
      "---------\n",
      "  | X |  \n",
      "---------\n",
      "  |   |  \n",
      "Computer turn\n",
      "O | X |  \n",
      "---------\n",
      "  | X |  \n",
      "---------\n",
      "  | O |  \n",
      "Player turn\n"
     ]
    },
    {
     "name": "stdin",
     "output_type": "stream",
     "text": [
      "Enter a position (1-9)  3\n"
     ]
    },
    {
     "name": "stdout",
     "output_type": "stream",
     "text": [
      "O | X | X\n",
      "---------\n",
      "  | X |  \n",
      "---------\n",
      "  | O |  \n",
      "Computer turn\n",
      "O | X | X\n",
      "---------\n",
      "  | X |  \n",
      "---------\n",
      "O | O |  \n",
      "Player turn\n"
     ]
    },
    {
     "name": "stdin",
     "output_type": "stream",
     "text": [
      "Enter a position (1-9)  4\n"
     ]
    },
    {
     "name": "stdout",
     "output_type": "stream",
     "text": [
      "O | X | X\n",
      "---------\n",
      "X | X |  \n",
      "---------\n",
      "O | O |  \n",
      "Computer turn\n",
      "O | X | X\n",
      "---------\n",
      "X | X |  \n",
      "---------\n",
      "O | O | O\n",
      "Computer won\n",
      "Game ended\n"
     ]
    }
   ],
   "source": [
    "import random\n",
    "\n",
    "board = [' ' for x in range(9)]\n",
    "def main():\n",
    "    print('Game started')\n",
    "    print_board()\n",
    "    game_end = False\n",
    "    while not game_end:\n",
    "        print('Player turn')\n",
    "        player_turn()\n",
    "        print_board()\n",
    "        if check_winner(board):\n",
    "            print('Player won')\n",
    "            game_end = True\n",
    "            break\n",
    "\n",
    "        print('Computer turn')\n",
    "        computer_move = computer_turn()\n",
    "        if computer_move != -1:\n",
    "            board[computer_move] = 'O'\n",
    "            print_board()\n",
    "            if check_winner(board):\n",
    "                print('Computer won')\n",
    "                game_end = True\n",
    "                break\n",
    "\n",
    "        if board.count(' ') < 1:\n",
    "            print('Tie game')\n",
    "            game_end = True\n",
    "\n",
    "    print('Game ended')\n",
    "\n",
    "def print_board():\n",
    "    print(board[0] + ' | ' + board[1] + ' | ' + board[2])\n",
    "    print('---------')\n",
    "    print(board[3] + ' | ' + board[4] + ' | ' + board[5])\n",
    "    print('---------')\n",
    "    print(board[6] + ' | ' + board[7] + ' | ' + board[8])\n",
    "\n",
    "def check_winner(board):\n",
    "    if ((board[0] == board[1] == board[2] != ' ') or\n",
    "        (board[3] == board[4] == board[5] != ' ') or\n",
    "        (board[6] == board[7] == board[8] != ' ')):\n",
    "        return True\n",
    "\n",
    "    if ((board[0] == board[3] == board[6] != ' ') or\n",
    "        (board[1] == board[4] == board[7] != ' ') or\n",
    "        (board[2] == board[5] == board[8] != ' ')):\n",
    "        return True\n",
    "\n",
    "    if ((board[0] == board[4] == board[8] != ' ') or\n",
    "        (board[2] == board[4] == board[6] != ' ')):\n",
    "        return True\n",
    "\n",
    "    return False\n",
    "\n",
    "def player_turn():\n",
    "    made_move = False\n",
    "    while not made_move:\n",
    "        player_input = input('Enter a position (1-9) ')\n",
    "        try:\n",
    "            player_move = int(player_input)\n",
    "            if player_move < 1 or player_move > 9:\n",
    "                print('Enter a valid position')\n",
    "            else:\n",
    "                player_position = player_move - 1 # player index in board\n",
    "                if board[player_position] != ' ':\n",
    "                    print('Position is already taken')\n",
    "                else:\n",
    "                    board[player_position] = 'X'\n",
    "                    made_move = True\n",
    "\n",
    "        except:\n",
    "            print('Enter a valid number')\n",
    "\n",
    "\n",
    "def computer_turn():\n",
    "\n",
    "    available_moves = [pos for pos, value in enumerate(board) if value == ' ']\n",
    "\n",
    "    move = -1\n",
    "\n",
    "\n",
    "\n",
    "    for i in available_moves:\n",
    "        new_board = board[:]\n",
    "        new_board[i] = 'O'\n",
    "        if check_winner(new_board):\n",
    "            move = i\n",
    "            return move\n",
    "\n",
    "    for i in available_moves:\n",
    "        new_board = board[:]\n",
    "        new_board[i] = 'X'\n",
    "        if check_winner(new_board):\n",
    "            move = i\n",
    "            return move\n",
    "\n",
    "    avalable_corners = []\n",
    "    for i in available_moves:\n",
    "        if i in [0, 2, 6, 8]:\n",
    "            avalable_corners.append(i)\n",
    "\n",
    "    if len(avalable_corners) > 0:\n",
    "        random_index = random.randrange(0, len(avalable_corners))\n",
    "        move = avalable_corners[random_index]\n",
    "        return move\n",
    "\n",
    "    if 4 in available_moves:\n",
    "        move = 4\n",
    "        return move\n",
    "\n",
    "    avalable_edges = []\n",
    "    for i in available_moves:\n",
    "        if i in [1, 3, 5, 7]:\n",
    "            avalable_edges.append(i)\n",
    "\n",
    "    if len(avalable_edges) > 0:\n",
    "        random_index = random.randrange(0, len(avalable_edges))\n",
    "        move = avalable_edges[random_index]\n",
    "        return move\n",
    "\n",
    "    return move\n",
    "    \n",
    "if __name__ == '__main__':\n",
    "\n",
    "    main()"
   ]
  },
  {
   "cell_type": "code",
   "execution_count": null,
   "id": "9d0458f3-dbf3-4cca-b954-b4181f9df170",
   "metadata": {},
   "outputs": [],
   "source": [
    "Heuristic Approach"
   ]
  },
  {
   "cell_type": "code",
   "execution_count": 14,
   "id": "8a1b4cfe-ca6a-4ea2-875f-9c32a5aa8c34",
   "metadata": {},
   "outputs": [
    {
     "name": "stdout",
     "output_type": "stream",
     "text": [
      "| 0 | 1 | 2 |\n",
      "| 3 | 4 | 5 |\n",
      "| 6 | 7 | 8 |\n"
     ]
    },
    {
     "name": "stdin",
     "output_type": "stream",
     "text": [
      "X's turn. Input move (0-8):  4\n"
     ]
    },
    {
     "name": "stdout",
     "output_type": "stream",
     "text": [
      "X makes a move to square 4\n",
      "|   |   |   |\n",
      "|   | X |   |\n",
      "|   |   |   |\n",
      "\n",
      "It's a tie!\n",
      "O makes a move to square 8\n",
      "|   |   |   |\n",
      "|   | X |   |\n",
      "|   |   | O |\n",
      "\n",
      "It's a tie!\n"
     ]
    },
    {
     "name": "stdin",
     "output_type": "stream",
     "text": [
      "X's turn. Input move (0-8):  0\n"
     ]
    },
    {
     "name": "stdout",
     "output_type": "stream",
     "text": [
      "X makes a move to square 0\n",
      "| X |   |   |\n",
      "|   | X |   |\n",
      "|   |   | O |\n",
      "\n",
      "It's a tie!\n",
      "O makes a move to square 3\n",
      "| X |   |   |\n",
      "| O | X |   |\n",
      "|   |   | O |\n",
      "\n",
      "It's a tie!\n"
     ]
    },
    {
     "name": "stdin",
     "output_type": "stream",
     "text": [
      "X's turn. Input move (0-8):  2\n"
     ]
    },
    {
     "name": "stdout",
     "output_type": "stream",
     "text": [
      "X makes a move to square 2\n",
      "| X |   | X |\n",
      "| O | X |   |\n",
      "|   |   | O |\n",
      "\n",
      "It's a tie!\n",
      "O makes a move to square 1\n",
      "| X | O | X |\n",
      "| O | X |   |\n",
      "|   |   | O |\n",
      "\n",
      "It's a tie!\n"
     ]
    },
    {
     "name": "stdin",
     "output_type": "stream",
     "text": [
      "X's turn. Input move (0-8):  5\n"
     ]
    },
    {
     "name": "stdout",
     "output_type": "stream",
     "text": [
      "X makes a move to square 5\n",
      "| X | O | X |\n",
      "| O | X | X |\n",
      "|   |   | O |\n",
      "\n",
      "It's a tie!\n",
      "O makes a move to square 6\n",
      "| X | O | X |\n",
      "| O | X | X |\n",
      "| O |   | O |\n",
      "\n",
      "It's a tie!\n"
     ]
    },
    {
     "name": "stdin",
     "output_type": "stream",
     "text": [
      "X's turn. Input move (0-8):  7\n"
     ]
    },
    {
     "name": "stdout",
     "output_type": "stream",
     "text": [
      "X makes a move to square 7\n",
      "| X | O | X |\n",
      "| O | X | X |\n",
      "| O | X | O |\n",
      "\n",
      "It's a tie!\n"
     ]
    }
   ],
   "source": [
    "def play(game, x_player, o_player, print_game=True):\n",
    "    if print_game:\n",
    "        game.print_board_nums()\n",
    "\n",
    "    letter = 'X' \n",
    "    while game.empty_squares():\n",
    "        if letter == 'O':\n",
    "            square = o_player.get_move(game)\n",
    "        else:\n",
    "            square = x_player.get_move(game)\n",
    "\n",
    "        if game.make_move(square, letter):\n",
    "            if print_game:\n",
    "                print(letter + f' makes a move to square {square}')\n",
    "                game.print_board()\n",
    "                print('')  # Empty line\n",
    "\n",
    "            if game.current_winner:\n",
    "                if print_game:\n",
    "                    if game.current_winner == 'O':\n",
    "                        print('Computer wins!')\n",
    "                    else:\n",
    "                        print(letter + ' wins!')\n",
    "                return game.current_winner  \n",
    "\n",
    "            letter = 'O' if letter == 'X' else 'X'  \n",
    "\n",
    "        if print_game:\n",
    "            print('It\\'s a tie!')\n",
    "\n",
    "if __name__ == '__main__':\n",
    "    x_player = HumanPlayer('X')\n",
    "    o_player = RandomComputerPlayer('O')\n",
    "    t = TicTacToe()\n",
    "    play(t, x_player, o_player, print_game=True)"
   ]
  },
  {
   "cell_type": "markdown",
   "id": "8cbfec55-0e90-41fa-8112-3ef22558b17d",
   "metadata": {},
   "source": []
  },
  {
   "cell_type": "code",
   "execution_count": null,
   "id": "8b1679f7-1777-4b72-b4a3-c7658f70c23f",
   "metadata": {},
   "outputs": [],
   "source": []
  }
 ],
 "metadata": {
  "kernelspec": {
   "display_name": "Python 3 (ipykernel)",
   "language": "python",
   "name": "python3"
  },
  "language_info": {
   "codemirror_mode": {
    "name": "ipython",
    "version": 3
   },
   "file_extension": ".py",
   "mimetype": "text/x-python",
   "name": "python",
   "nbconvert_exporter": "python",
   "pygments_lexer": "ipython3",
   "version": "3.10.0"
  }
 },
 "nbformat": 4,
 "nbformat_minor": 5
}
