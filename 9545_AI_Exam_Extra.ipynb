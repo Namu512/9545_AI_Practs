{
 "cells": [
  {
   "cell_type": "code",
   "execution_count": 37,
   "metadata": {},
   "outputs": [
    {
     "name": "stdout",
     "output_type": "stream",
     "text": [
      "3 missionaries and 3 cannibals on the left side\n",
      "0 missionaries and 0 cannibals on the right side\n",
      "3 missionaries and 1 cannibals on the left side\n",
      "0 missionaries and 2 cannibals on the right side\n",
      "1 missionaries and 1 cannibals on the left side\n",
      "2 missionaries and 2 cannibals on the right side\n",
      "0 missionaries and 0 cannibals on the left side\n",
      "3 missionaries and 3 cannibals on the right side\n"
     ]
    }
   ],
   "source": [
    "from collections import deque\n",
    "\n",
    "def is_valid(state):\n",
    "    m_left,c_left,b_pos,m_right,c_right = state\n",
    "    if m_left<0 or c_left<0 or m_right<0 or c_right<0:\n",
    "        return False \n",
    "    if m_left>3 or c_left>3 or m_right>3 or c_right>3:\n",
    "        return False \n",
    "    if (c_left>m_left>0) or (c_right>m_right>0):\n",
    "        return False \n",
    "    return True \n",
    "\n",
    "def next_states(state):\n",
    "    m_left,c_left,b_pos,m_right,c_right = state\n",
    "    if b_pos == 'left':\n",
    "        moves = [(2,0),(0,2),(1,1),(1,0),(0,1)]\n",
    "        next_states = [(m_left-m,c_left-c,'right',m_right+m ,c_right+c)for m,c in moves]\n",
    "    else:\n",
    "        moves = [(-2,0),(0,-2),(-1,-1),(-1,0),(0,-1)]\n",
    "        next_states = [(m_left+m,c_left+c,'left',m_right-m,c_right-c)for m,c in moves]\n",
    "    return (state for state in next_states if is_valid(state))\n",
    "\n",
    "def bfs(state):\n",
    "    frontier = deque()\n",
    "    frontier.append([start_state])\n",
    "    explored = set()\n",
    "    while frontier:\n",
    "        path = frontier.popleft()\n",
    "        current_state = path[-1]\n",
    "        if current_state == (0, 0, 'right', 3, 3):\n",
    "            return path\n",
    "        for next_state in next_states(current_state):\n",
    "            if next_state not in explored:\n",
    "                new_path = path + [next_state]\n",
    "                frontier.append(new_path)\n",
    "                explored.add(next_state)\n",
    "    return None\n",
    "\n",
    "def print_state(state):\n",
    "    m_left,c_left,b_pos,m_right,c_right = state\n",
    "    print(f\"{m_left} missionaries and {c_left} cannibals on the left side\")\n",
    "    print(f\"{m_right} missionaries and {c_right} cannibals on the right side\")\n",
    "\n",
    "start_state = (3, 3, 'left', 0, 0)\n",
    "path = bfs(start_state)\n",
    "\n",
    "if path:\n",
    "    for state in path: \n",
    "         print_state(state)\n",
    "\n",
    "else:\n",
    "    print(\"No solution found\")"
   ]
  },
  {
   "cell_type": "code",
   "execution_count": null,
   "metadata": {},
   "outputs": [],
   "source": []
  }
 ],
 "metadata": {
  "kernelspec": {
   "display_name": "Python 3",
   "language": "python",
   "name": "python3"
  },
  "language_info": {
   "codemirror_mode": {
    "name": "ipython",
    "version": 3
   },
   "file_extension": ".py",
   "mimetype": "text/x-python",
   "name": "python",
   "nbconvert_exporter": "python",
   "pygments_lexer": "ipython3",
   "version": "3.8.10"
  }
 },
 "nbformat": 4,
 "nbformat_minor": 4
}
